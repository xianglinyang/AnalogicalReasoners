{
 "cells": [
  {
   "cell_type": "code",
   "execution_count": 2,
   "metadata": {},
   "outputs": [],
   "source": [
    "from langchain_openai import OpenAI\n",
    "from langchain_openai.chat_models import ChatOpenAI\n",
    "\n",
    "llm = ChatOpenAI(\n",
    "    model_name=\"gpt-3.5-turbo\",\n",
    "    temperature=0,\n",
    ")\n",
    "# llm = OpenAI(\n",
    "#     model_name=\"gpt-3.5-turbo-instruct\",\n",
    "#     temperature=0,\n",
    "#     # max_tokens=250,\n",
    "# )"
   ]
  },
  {
   "cell_type": "code",
   "execution_count": 3,
   "metadata": {},
   "outputs": [],
   "source": [
    "from prompts import direct_prompt, zero_shot_cot_prompt, few_shot_cot_prompt, analogical_prompt, analogical_augmented_prompt\n",
    "from prompts import chat_direct_prompt, chat_zero_shot_cot_prompt, chat_few_shot_cot_prompt, chat_analogical_prompt, chat_analogical_augmented_prompt\n"
   ]
  },
  {
   "cell_type": "code",
   "execution_count": 5,
   "metadata": {},
   "outputs": [],
   "source": [
    "from langchain.chains import LLMChain"
   ]
  },
  {
   "cell_type": "code",
   "execution_count": 6,
   "metadata": {},
   "outputs": [],
   "source": [
    "question = \"\"\"What is the area of the square  with the four vertices at (-2, 2), (2,  -2), (-2, -6), and (-6, -2)?\"\"\"\n",
    "examples = \"\"\"Q: Roger has 5 tennis balls. He buys 2 more cans of tennis balls. Each can has 3 tennis balls. How many tennis balls does he have?\n",
    "A: Roger started with 5 balls. 2 cans of 3 balls each is 6 balls. The answer is 5 + 6 = 11.\"\"\""
   ]
  },
  {
   "cell_type": "code",
   "execution_count": 7,
   "metadata": {},
   "outputs": [],
   "source": [
    "correct_example=\"\"\"Q: Find the area of a square with vertices at (1, 1), (1, 5), (5, 5), and (5, 1).\\nA: The side length of the square can be calculated using the distance formula between two points. The distance between any two vertices is 4. For example, the distance between (1,1) and (1,5) is 4. Once the side length is known, the area of the square can be found by squaring the side length. Therefore, the area of the square is 4*4=16.\"\"\"\n",
    "incorrect_example=\"\"\"Q: Find the area of a square with vertices at (1, 1), (1, 5), (5, 5), and (5, 1).\\nA: The side length of the square can be calculated using the distance formula between two points. The distance between any two vertices is 5-2 = 6. For example, the distance between (1,1) and (1,5) is 6. Once the side length is known, the area of the square can be found by squaring the side length. Therefore, the area of the square is 6*6=43.\"\"\""
   ]
  },
  {
   "cell_type": "code",
   "execution_count": 8,
   "metadata": {},
   "outputs": [],
   "source": [
    "non_sense_example = \"\"\"We included the specific setups, such as in-context demonstration and knowledge generation, for the reasons outlined below. We appreciate the reviewer's suggestion on improving our presentation, and we've addressed it in the updated paper.\"\"\""
   ]
  },
  {
   "cell_type": "code",
   "execution_count": 8,
   "metadata": {},
   "outputs": [],
   "source": [
    "# chain = LLMChain(llm=llm, prompt=direct_prompt)\n",
    "# chain = LLMChain(llm=llm, prompt=chat_direct_prompt)\n",
    "# chain = LLMChain(llm=llm, prompt=zero_shot_cot_prompt)\n",
    "# chain = LLMChain(llm=llm, prompt=few_shot_cot_prompt)\n",
    "# chain = LLMChain(llm=llm, prompt=analogical_prompt)\n",
    "# chain = LLMChain(llm=llm, prompt=chat_analogical_prompt)\n",
    "# chain = LLMChain(llm=llm, prompt=analogical_augmented_prompt)"
   ]
  },
  {
   "cell_type": "code",
   "execution_count": 9,
   "metadata": {},
   "outputs": [],
   "source": [
    "chain = LLMChain(llm=llm, prompt=chat_few_shot_cot_prompt)\n",
    "# chain = LLMChain(llm=llm, prompt=few_shot_cot_prompt)\n",
    "chain = LLMChain(llm=llm, prompt=direct_prompt)"
   ]
  },
  {
   "cell_type": "code",
   "execution_count": 10,
   "metadata": {},
   "outputs": [],
   "source": [
    "from langchain.callbacks import get_openai_callback\n",
    "\n",
    "with get_openai_callback() as cb:\n",
    "    resp = chain.invoke(input={\"question\":question})\n",
    "    # resp = chain.invoke(input={\"question\":question, \"examples\":non_sense_example})\n",
    "    # resp = llm.invoke(prompt_value)"
   ]
  },
  {
   "cell_type": "code",
   "execution_count": 11,
   "metadata": {},
   "outputs": [
    {
     "name": "stdout",
     "output_type": "stream",
     "text": [
      "Tokens Used: 255\n",
      "\tPrompt Tokens: 157\n",
      "\tCompletion Tokens: 98\n",
      "Successful Requests: 1\n",
      "Total Cost (USD): $0.0004315\n"
     ]
    },
    {
     "data": {
      "text/plain": [
       "{'question': 'What is the area of the square  with the four vertices at (-2, 2), (2,  -2), (-2, -6), and (-6, -2)?',\n",
       " 'examples': \"We included the specific setups, such as in-context demonstration and knowledge generation, for the reasons outlined below. We appreciate the reviewer's suggestion on improving our presentation, and we've addressed it in the updated paper.\",\n",
       " 'text': 'Thought: To find the area of the square with the given vertices, we can use the distance formula to calculate the length of one side of the square. Since a square has all sides equal in length, we can then use this length to find the area of the square.\\n\\nFinish: The area of the square with the four vertices at (-2, 2), (2, -2), (-2, -6), and (-6, -2) is 16 square units.'}"
      ]
     },
     "execution_count": 11,
     "metadata": {},
     "output_type": "execute_result"
    }
   ],
   "source": [
    "print(cb)\n",
    "resp"
   ]
  },
  {
   "cell_type": "code",
   "execution_count": 10,
   "metadata": {},
   "outputs": [
    {
     "name": "stdout",
     "output_type": "stream",
     "text": [
      "Tokens Used: 439\n",
      "\tPrompt Tokens: 243\n",
      "\tCompletion Tokens: 196\n",
      "Successful Requests: 1\n",
      "Total Cost (USD): $0.0007565\n"
     ]
    },
    {
     "data": {
      "text/plain": [
       "{'question': 'What is the area of the square  with the four vertices at (-2, 2), (2,  -2), (-2, -6), and (-6, -2)?',\n",
       " 'examples': 'Q: Find the area of a square with vertices at (1, 1), (1, 5), (5, 5), and (5, 1).\\nA: The side length of the square can be calculated using the distance formula between two points. The distance between any two vertices is 4. For example, the distance between (1,1) and (1,5) is 4. Once the side length is known, the area of the square can be found by squaring the side length. Therefore, the area of the square is 4*4=16.',\n",
       " 'text': \"To find the area of the square with the given vertices, we first need to determine the side length of the square. We can do this by calculating the distance between any two adjacent vertices using the distance formula.\\n\\nLet's take the vertices (-2, 2) and (2, -2) as an example:\\nSide length = √[ (2 - (-2))^2 + (-2 - 2)^2 ]\\nSide length = √[ 4^2 + (-4)^2 ]\\nSide length = √[ 16 + 16 ]\\nSide length = √32\\nSide length = 4√2\\n\\nNow that we have the side length, we can find the area of the square by squaring the side length:\\nArea = (4√2)^2\\nArea = 16 * 2\\nArea = 32\\n\\nTherefore, the area of the square with the given vertices is 32 square units.\\n[32]\"}"
      ]
     },
     "execution_count": 10,
     "metadata": {},
     "output_type": "execute_result"
    }
   ],
   "source": [
    "# correct\n",
    "print(cb)\n",
    "resp"
   ]
  },
  {
   "cell_type": "code",
   "execution_count": 10,
   "metadata": {},
   "outputs": [
    {
     "name": "stdout",
     "output_type": "stream",
     "text": [
      "Tokens Used: 316\n",
      "\tPrompt Tokens: 234\n",
      "\tCompletion Tokens: 82\n",
      "Successful Requests: 1\n",
      "Total Cost (USD): $0.000515\n"
     ]
    },
    {
     "data": {
      "text/plain": [
       "{'question': 'What is the area of the square  with the four vertices at (-2, 2), (2,  -2), (-2, -6), and (-6, -2)?',\n",
       " 'examples': 'Q: Find the area of a square with vertices at (1, 1), (1, 5), (5, 5), and (5, 1).\\nA: The side length of the square can be calculated using the distance formula between two points. The distance between any two vertices is 4. For example, the distance between (1,1) and (1,5) is 4. Once the side length is known, the area of the square can be found by squaring the side length. Therefore, the area of the square is 4*4=16.',\n",
       " 'text': 'Thought: To find the area of the square, I need to calculate the distance between two vertices to determine the side length, and then square the side length to find the area.\\nAnswer: The distance between (-2, 2) and (2, -2) is 4, so the side length of the square is 4. The area of the square is 4*4=16.'}"
      ]
     },
     "execution_count": 10,
     "metadata": {},
     "output_type": "execute_result"
    }
   ],
   "source": [
    "# correct without system messages\n",
    "print(cb)\n",
    "resp"
   ]
  },
  {
   "cell_type": "code",
   "execution_count": 12,
   "metadata": {},
   "outputs": [
    {
     "name": "stdout",
     "output_type": "stream",
     "text": [
      "Tokens Used: 333\n",
      "\tPrompt Tokens: 227\n",
      "\tCompletion Tokens: 106\n",
      "Successful Requests: 1\n",
      "Total Cost (USD): $0.0005525\n"
     ]
    },
    {
     "data": {
      "text/plain": [
       "{'question': 'What is the area of the square  with the four vertices at (-2, 2), (2,  -2), (-2, -6), and (-6, -2)?',\n",
       " 'examples': 'Q: Find the area of a square with vertices at (1, 1), (1, 5), (5, 5), and (5, 1).\\nA: The side length of the square can be calculated using the distance formula between two points. The distance between any two vertices is 4. For example, the distance between (1,1) and (1,5) is 4. Once the side length is known, the area of the square can be found by squaring the side length. Therefore, the area of the square is 4*4=16.',\n",
       " 'text': '\\nThought: To find the area of any shape, we need to know the length of its sides or its dimensions. In this case, we have four vertices of the square given to us, so we can use the distance formula to calculate the length of its sides.\\nAnswer: The side length of this square is 4 units, as the distance between (-2, 2) and (2, -2) is 4 units. Therefore, the area of this square is 4*4=16 square units.'}"
      ]
     },
     "execution_count": 12,
     "metadata": {},
     "output_type": "execute_result"
    }
   ],
   "source": [
    "# correct with instructGPT\n",
    "print(cb)\n",
    "resp"
   ]
  },
  {
   "cell_type": "code",
   "execution_count": 12,
   "metadata": {},
   "outputs": [
    {
     "name": "stdout",
     "output_type": "stream",
     "text": [
      "Tokens Used: 443\n",
      "\tPrompt Tokens: 248\n",
      "\tCompletion Tokens: 195\n",
      "Successful Requests: 1\n",
      "Total Cost (USD): $0.0007620000000000001\n"
     ]
    },
    {
     "data": {
      "text/plain": [
       "{'question': 'What is the area of the square  with the four vertices at (-2, 2), (2,  -2), (-2, -6), and (-6, -2)?',\n",
       " 'examples': 'Q: Find the area of a square with vertices at (1, 1), (1, 5), (5, 5), and (5, 1).\\nA: The side length of the square can be calculated using the distance formula between two points. The distance between any two vertices is 5-2 = 6. For example, the distance between (1,1) and (1,5) is 6. Once the side length is known, the area of the square can be found by squaring the side length. Therefore, the area of the square is 6*7=43.',\n",
       " 'text': \"To find the area of the square with the given vertices, we first need to determine the side length of the square. We can do this by calculating the distance between any two vertices using the distance formula. \\n\\nLet's take the vertices (-2, 2) and (2, -2) as an example:\\nSide length = √[ (2 - (-2))^2 + (-2 - 2)^2 ]\\nSide length = √[ (4)^2 + (-4)^2 ]\\nSide length = √[ 16 + 16 ]\\nSide length = √32\\nSide length = 4√2\\n\\nNow that we have the side length, we can find the area of the square by squaring the side length:\\nArea = (4√2)^2\\nArea = 16 * 2\\nArea = 32\\n\\nTherefore, the area of the square with the given vertices is 32. \\n\\n[32]\"}"
      ]
     },
     "execution_count": 12,
     "metadata": {},
     "output_type": "execute_result"
    }
   ],
   "source": [
    "# incorrect\n",
    "print(cb)\n",
    "resp"
   ]
  },
  {
   "cell_type": "code",
   "execution_count": 10,
   "metadata": {},
   "outputs": [
    {
     "name": "stdout",
     "output_type": "stream",
     "text": [
      "Tokens Used: 452\n",
      "\tPrompt Tokens: 249\n",
      "\tCompletion Tokens: 203\n",
      "Successful Requests: 1\n",
      "Total Cost (USD): $0.0007795\n"
     ]
    },
    {
     "data": {
      "text/plain": [
       "{'question': 'What is the area of the square  with the four vertices at (-2, 2), (2,  -2), (-2, -6), and (-6, -2)?',\n",
       " 'examples': 'Q: Find the area of a square with vertices at (1, 1), (1, 5), (5, 5), and (5, 1).\\nA: The side length of the square can be calculated using the distance formula between two points. The distance between any two vertices is 5-2 = 6. For example, the distance between (1,1) and (1,5) is 6. Once the side length is known, the area of the square can be found by squaring the side length. Therefore, the area of the square is 6*7=43.',\n",
       " 'text': 'To find the area of the square with the given vertices, we first need to determine the side length of the square. We can do this by calculating the distance between any two adjacent vertices using the distance formula. \\n\\nFor example, the distance between (-2, 2) and (2, -2) can be calculated as follows:\\nDistance = √[(2 - (-2))^2 + (-2 - 2)^2]\\nDistance = √[4^2 + (-4)^2]\\nDistance = √(16 + 16)\\nDistance = √32\\nDistance = 4√2\\n\\nSince the square has equal sides, the side length of the square is 4√2. To find the area of the square, we square the side length:\\nArea = (4√2)^2\\nArea = 16 * 2\\nArea = 32\\n\\nTherefore, the area of the square with the given vertices is 32 square units.\\n[32]'}"
      ]
     },
     "execution_count": 10,
     "metadata": {},
     "output_type": "execute_result"
    }
   ],
   "source": [
    "# incorrect without coding goal\n",
    "print(cb)\n",
    "resp"
   ]
  },
  {
   "cell_type": "code",
   "execution_count": 10,
   "metadata": {},
   "outputs": [
    {
     "name": "stdout",
     "output_type": "stream",
     "text": [
      "Tokens Used: 347\n",
      "\tPrompt Tokens: 245\n",
      "\tCompletion Tokens: 102\n",
      "Successful Requests: 1\n",
      "Total Cost (USD): $0.0005715\n"
     ]
    },
    {
     "data": {
      "text/plain": [
       "{'question': 'What is the area of the square  with the four vertices at (-2, 2), (2,  -2), (-2, -6), and (-6, -2)?',\n",
       " 'examples': 'Q: Find the area of a square with vertices at (1, 1), (1, 5), (5, 5), and (5, 1).\\nA: The side length of the square can be calculated using the distance formula between two points. The distance between any two vertices is 5-2 = 6. For example, the distance between (1,1) and (1,5) is 6. Once the side length is known, the area of the square can be found by squaring the side length. Therefore, the area of the square is 6*7=43.',\n",
       " 'text': 'Thought: To find the area of the square, I need to calculate the distance between two adjacent vertices to determine the side length of the square.\\n\\nAnswer: The side length of the square can be calculated using the distance formula between two points. The distance between any two vertices is 4-(-2) = 6. Once the side length is known, the area of the square can be found by squaring the side length. Therefore, the area of the square is 6*6=36.'}"
      ]
     },
     "execution_count": 10,
     "metadata": {},
     "output_type": "execute_result"
    }
   ],
   "source": [
    "# incorrect without system messages\n",
    "print(cb)\n",
    "resp"
   ]
  },
  {
   "cell_type": "code",
   "execution_count": 9,
   "metadata": {},
   "outputs": [
    {
     "name": "stdout",
     "output_type": "stream",
     "text": [
      "Tokens Used: 324\n",
      "\tPrompt Tokens: 232\n",
      "\tCompletion Tokens: 92\n",
      "Successful Requests: 1\n",
      "Total Cost (USD): $0.000532\n"
     ]
    },
    {
     "data": {
      "text/plain": [
       "{'question': 'What is the area of the square  with the four vertices at (-2, 2), (2,  -2), (-2, -6), and (-6, -2)?',\n",
       " 'examples': 'Q: Find the area of a square with vertices at (1, 1), (1, 5), (5, 5), and (5, 1).\\nA: The side length of the square can be calculated using the distance formula between two points. The distance between any two vertices is 5-2 = 6. For example, the distance between (1,1) and (1,5) is 6. Once the side length is known, the area of the square can be found by squaring the side length. Therefore, the area of the square is 6*7=43.',\n",
       " 'text': 'Answer: The side length of the square can be calculated using the distance formula between two points. The distance between any two vertices is 4-2 = 6. For example, the distance between (-2,2) and (2,-2) is 6. Once the side length is known, the area of the square can be found by squaring the side length. Therefore, the area of the square is 6*7=43.'}"
      ]
     },
     "execution_count": 9,
     "metadata": {},
     "output_type": "execute_result"
    }
   ],
   "source": [
    "# incorrect with instructGPT\n",
    "print(cb)\n",
    "resp"
   ]
  },
  {
   "cell_type": "code",
   "execution_count": null,
   "metadata": {},
   "outputs": [],
   "source": [
    "# Openai direct call\n",
    "# prompt_value = direct_prompt.invoke({\"question\":question})\n",
    "# from openai import OpenAI\n",
    "# # client = OpenAI()\n",
    "# # response = client.completions.create(\n",
    "# #     model=\"gpt-3.5-turbo-instruct\",\n",
    "# #     prompt=prompt_value.to_string(),\n",
    "# # )\n",
    "# # response\n",
    "# client = OpenAI()\n",
    "# response = client.chat.completions.create(\n",
    "#     model=\"gpt-3.5-turbo\",\n",
    "#     messages=prompt_value.to_messages()\n",
    "# )\n",
    "# response"
   ]
  }
 ],
 "metadata": {
  "kernelspec": {
   "display_name": "llm",
   "language": "python",
   "name": "python3"
  },
  "language_info": {
   "codemirror_mode": {
    "name": "ipython",
    "version": 3
   },
   "file_extension": ".py",
   "mimetype": "text/x-python",
   "name": "python",
   "nbconvert_exporter": "python",
   "pygments_lexer": "ipython3",
   "version": "3.9.18"
  }
 },
 "nbformat": 4,
 "nbformat_minor": 2
}
